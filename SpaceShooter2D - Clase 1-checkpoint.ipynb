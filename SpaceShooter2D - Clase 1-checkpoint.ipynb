{
 "cells": [
  {
   "cell_type": "code",
   "execution_count": 1,
   "metadata": {},
   "outputs": [
    {
     "name": "stdout",
     "output_type": "stream",
     "text": [
      "pygame 1.9.6\n",
      "Hello from the pygame community. https://www.pygame.org/contribute.html\n"
     ]
    }
   ],
   "source": [
    "import pygame, random\n",
    "\n",
    "#constantes \n",
    "\n",
    "WIDTH = 800\n",
    "HEIGHT = 600\n",
    "\n",
    "BLACK = (0, 0, 0)\n",
    "\n",
    "pygame.init() # inicializar todos los módulos de pygame importados\n",
    "pygame.mixer.init() # inicializar el módulo mezclador para cargar y reproducir sonidos\n",
    "screen = pygame.display.set_mode((WIDTH, HEIGHT)) # Inicializar una ventana o pantalla para su visualización\n",
    "pygame.display.set_caption(\"Space Shooter 2D\")\n",
    "clock = pygame.time.Clock() # módulo pygame para monitorear el tiempo\n",
    "\n",
    "class Player(pygame.sprite.Sprite): #Clase base simple para objetos de juego visibles.\n",
    "    \n",
    "    def __init__(self): #este método init se ejecuta cada vez que sea crea un nuevo objeto, self no es una palabra reservada del lenguaje,en ella se guarda la referencia a mi objeto que estoy creando\n",
    "        super().__init__() \n",
    "        self.image = pygame.image.load(\"assets/DVShip.jpg\").convert() #cargar imagen\n",
    "        #self.image.set_colorkey(BLACK) #Remueve el borde negro de la imagen\n",
    "        self.rect = self.image.get_rect()# Obtenemos el objeto rectángulo que posee las dimensiones de la imagen\n",
    "        self.rect.centerx = WIDTH // 2 #ancho a la mitad\n",
    "        self.rect.bottom = HEIGHT - 10\n",
    "        self.speed_x = 0 # condición inicial de la velocidad\n",
    "\n",
    "    def update(self):\n",
    "        self.speed_x = 0\n",
    "        keystate = pygame.key.get_pressed()\n",
    "        if keystate[pygame.K_LEFT]:\n",
    "            self.speed_x = -5\n",
    "        if keystate[pygame.K_RIGHT]:\n",
    "            self.speed_x = 5\n",
    "        self.rect.x += self.speed_x\n",
    "        if self.rect.right > WIDTH:\n",
    "            self.rect.right = WIDTH\n",
    "        if self.rect.left < 0:\n",
    "            self.rect.left = 0\n",
    "\n",
    "all_sprites = pygame.sprite.Group() # Una clase de contenedor para contener y \n",
    "#administrar múltiples objetos Sprite.\n",
    "\n",
    "\n",
    "player = Player()\n",
    "all_sprites.add(player)\n",
    "\n",
    "\n",
    "# Game Loop\n",
    "running = True\n",
    "while running:\n",
    "    # Keep loop running at the right speed\n",
    "    clock.tick(60) # El juego correra a 60 FPS\n",
    "    # Process input (events)\n",
    "    for event in pygame.event.get():\n",
    "        # check for closing window\n",
    "        if event.type == pygame.QUIT:\n",
    "            running = False\n",
    "\n",
    "\n",
    "    # Update\n",
    "    all_sprites.update()\n",
    "\n",
    "    #Draw / Render\n",
    "    screen.fill(BLACK)\n",
    "    all_sprites.draw(screen)\n",
    "    # *after* drawing everything, flip the display.\n",
    "    pygame.display.flip()\n",
    "\n",
    "pygame.quit()"
   ]
  },
  {
   "cell_type": "code",
   "execution_count": null,
   "metadata": {},
   "outputs": [],
   "source": []
  }
 ],
 "metadata": {
  "kernelspec": {
   "display_name": "Python 3",
   "language": "python",
   "name": "python3"
  },
  "language_info": {
   "codemirror_mode": {
    "name": "ipython",
    "version": 3
   },
   "file_extension": ".py",
   "mimetype": "text/x-python",
   "name": "python",
   "nbconvert_exporter": "python",
   "pygments_lexer": "ipython3",
   "version": "3.8.3"
  }
 },
 "nbformat": 4,
 "nbformat_minor": 4
}
